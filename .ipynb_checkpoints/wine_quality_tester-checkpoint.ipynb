{
 "cells": [
  {
   "cell_type": "code",
   "execution_count": 10,
   "metadata": {},
   "outputs": [],
   "source": [
    "#import some important libraries\n",
    "\n",
    "import pandas as pd\n",
    "import numpy as np\n",
    "\n",
    "from sklearn.cross_validation import ShuffleSplit\n",
    "\n",
    "# loading wine data \n",
    "wine_data = pd.ExcelFile('Wine_data.xlsx')\n",
    "\n",
    "data_red = pd.read_excel(wine_data,'Red Wine')\n",
    "data_white = pd.read_excel(wine_data,'White Wine')"
   ]
  },
  {
   "cell_type": "code",
   "execution_count": 15,
   "metadata": {},
   "outputs": [],
   "source": [
    "# data framing for red wine \n",
    "qlty_red  = data_red['quality']\n",
    "features_red = data_red.drop(['quality'],axis=1)"
   ]
  },
  {
   "cell_type": "code",
   "execution_count": 19,
   "metadata": {},
   "outputs": [],
   "source": [
    "#data framing for white wine \n",
    "qlty_white = data_white['quality']\n",
    "features_white = data_white.drop(['quality'],axis=1)"
   ]
  },
  {
   "cell_type": "code",
   "execution_count": 20,
   "metadata": {},
   "outputs": [],
   "source": [
    "#making a performance function \n",
    "\n",
    "#importing some performance metrics\n",
    "\n",
    "from sklearn.metrics import r2_score\n",
    "\n",
    "#making a new performance metrics for computing performance of regressor\n",
    "def performance_metrics(y_true,y_predict):\n",
    "    return r2_score(y_true,y_predict)"
   ]
  },
  {
   "cell_type": "code",
   "execution_count": 21,
   "metadata": {},
   "outputs": [],
   "source": [
    "#dividing the data in training and testing format \n",
    "\n",
    "from sklearn.cross_validation import train_test_split\n",
    "\n",
    "def split_data(X,y):\n",
    "    #spliting data in two halfs for training and testing \n",
    "    X_train,X_test,y_train,y_test = train_test_split(X,y,test_size=0.2,random_state=42)\n",
    "    \n",
    "    #returning the splitted data for model building\n",
    "    return X_train,X_test,y_train,y_test"
   ]
  },
  {
   "cell_type": "code",
   "execution_count": 28,
   "metadata": {},
   "outputs": [],
   "source": [
    "#creating a new function to fit model \n",
    "\n",
    "from sklearn.tree import DecisionTreeRegressor\n",
    "from sklearn.metrics import make_scorer\n",
    "from sklearn.grid_search import GridSearchCV\n",
    "\n",
    "def fit_model(X,y):\n",
    "    \n",
    "    #creating a new cv set to increase complexity of data set \n",
    "    cv_set = ShuffleSplit(X.shape[0],n_iter=15,test_size=0.1,random_state=23)\n",
    "    \n",
    "    #making a scorer function for better evaluation\n",
    "    score_func = make_scorer(performance_metrics)\n",
    "    \n",
    "    #creating a list of params \n",
    "    params = {'max_depth':list(range(1,11))}\n",
    "    \n",
    "    #creating a regressor to perform a regression\n",
    "    reg = DecisionTreeRegressor()\n",
    "    \n",
    "    #creating a grid for estimation using GridSearchCV\n",
    "    grid = GridSearchCV(reg,param_grid=params,scoring=score_func,cv=cv_set)\n",
    "    \n",
    "    #fitting the data for grid\n",
    "    grid.fit(X,y)\n",
    "    \n",
    "    #returning best estimator for predicting the value\n",
    "    return grid.best_estimator_"
   ]
  },
  {
   "cell_type": "code",
   "execution_count": 31,
   "metadata": {},
   "outputs": [
    {
     "name": "stdout",
     "output_type": "stream",
     "text": [
      "Parameter 'max_depth' is 5 for the optimal model.\n"
     ]
    }
   ],
   "source": [
    "# getting the train and test set of data for white wine \n",
    "\n",
    "# spliting dataset \n",
    "X_train_w,X_test_w,y_train_w,y_test_w = split_data(features_white,qlty_white)\n",
    "\n",
    "#Model fitting for white wine\n",
    "reg_w= fit_model(X_train_w,y_train_w)\n",
    "\n",
    "# Producing the value of max_depth\n",
    "print (\"Parameter 'max_depth' is {} for the optimal model.\".format(reg_w.get_params()['max_depth']))"
   ]
  },
  {
   "cell_type": "code",
   "execution_count": 32,
   "metadata": {},
   "outputs": [
    {
     "name": "stdout",
     "output_type": "stream",
     "text": [
      "Parameter 'max_depth' is 4 for the optimal model.\n"
     ]
    }
   ],
   "source": [
    "# Getting the train and test set of data for red wine\n",
    "\n",
    "# Spliting dataset\n",
    "X_train_r,X_test_r,y_train_r,y_test_r = split_data(features_red,qlty_red)\n",
    "\n",
    "# Model fitting for red wine \n",
    "reg_r= fit_model(X_train_r,y_train_r)\n",
    "\n",
    "# Producing the value of max_depth\n",
    "print (\"Parameter 'max_depth' is {} for the optimal model.\".format(reg_r.get_params()['max_depth']))"
   ]
  },
  {
   "cell_type": "code",
   "execution_count": 47,
   "metadata": {},
   "outputs": [],
   "source": [
    "# creating function for predicting the values for the model \n",
    "\n",
    "def PredictTrials(X, y, fitter, data):\n",
    "    \"\"\" Performs trials of fitting and predicting data. \"\"\"\n",
    "    for k in range(10):\n",
    "        # Split the data\n",
    "        X_train, X_test, y_train, y_test = train_test_split(X, y, \\\n",
    "            test_size = 0.2, random_state = k)\n",
    "        \n",
    "        # Fit the data\n",
    "        reg = fitter(X_train, y_train)\n",
    "        \n",
    "        # Make a prediction\n",
    "        pred = reg.predict([data[0]])[0]\n",
    "        \n",
    "        # Result\n",
    "        print (\"Trial {}: {:,.2f}\".format(k+1, np.round(pred)))"
   ]
  },
  {
   "cell_type": "code",
   "execution_count": 48,
   "metadata": {},
   "outputs": [],
   "source": [
    "white_data =  [[7,0.27,0.36,20.7,0.045,45,170,1.001,3,0.45,8.8],\n",
    "[6.3,0.3,0.34,1.6,0.049,14,132,0.994,3.3,0.49,9.5],\n",
    "[8.1,0.28,0.4,6.9,0.05,30,97,0.9951,3.26,0.44,10.1],\n",
    "[7.2,0.23,0.32,8.5,0.058,47,186,0.9956,3.19,0.4,9.9],\n",
    "[7.2,0.23,0.32,8.5,0.058,47,186,0.9956,3.19,0.4,9.9]]"
   ]
  },
  {
   "cell_type": "code",
   "execution_count": 45,
   "metadata": {},
   "outputs": [
    {
     "name": "stdout",
     "output_type": "stream",
     "text": [
      "Trial 1: 5.45\n",
      "Trial 2: 5.59\n",
      "Trial 3: 5.40\n",
      "Trial 4: 5.50\n",
      "Trial 5: 5.52\n",
      "Trial 6: 5.51\n",
      "Trial 7: 5.33\n",
      "Trial 8: 5.57\n",
      "Trial 9: 5.48\n",
      "Trial 10: 5.38\n"
     ]
    }
   ],
   "source": [
    "# predicting the trials for white wine \n",
    "\n",
    "PredictTrials(features_white,qlty_white,fit_model,white_data)"
   ]
  },
  {
   "cell_type": "code",
   "execution_count": 49,
   "metadata": {},
   "outputs": [],
   "source": [
    "red_data =[[7.9,0.6,0.06,1.6,0.069,15,59,0.9964,3.3,0.46,9.4],\n",
    "[7.8,0.88,0,2.6,0.098,25,67,0.9968,3.2,0.68,9.8],\n",
    "[7.8,0.76,0.04,2.3,0.092,15,54,0.997,3.26,0.65,9.8],\n",
    "[11.2,0.28,0.56,1.9,0.075,17,60,0.998,3.16,0.58,9.8],\n",
    "[7.4,0.7,0,1.9,0.076,11,34,0.9978,3.51,0.56,9.4],\n",
    "[7.4,0.66,0,1.8,0.075,13,40,0.9978,3.51,0.56,9.4],\n",
    "[7.3,0.65,0,1.2,0.065,15,21,0.9946,3.39,0.47,10,7]]"
   ]
  },
  {
   "cell_type": "code",
   "execution_count": 50,
   "metadata": {},
   "outputs": [
    {
     "name": "stdout",
     "output_type": "stream",
     "text": [
      "Trial 1: 5.00\n",
      "Trial 2: 5.00\n",
      "Trial 3: 5.00\n",
      "Trial 4: 5.00\n",
      "Trial 5: 5.00\n",
      "Trial 6: 5.00\n",
      "Trial 7: 5.00\n",
      "Trial 8: 5.00\n",
      "Trial 9: 5.00\n",
      "Trial 10: 5.00\n"
     ]
    }
   ],
   "source": [
    "PredictTrials(features_red,qlty_red,fit_model,red_data)"
   ]
  }
 ],
 "metadata": {
  "kernelspec": {
   "display_name": "Python 3",
   "language": "python",
   "name": "python3"
  },
  "language_info": {
   "codemirror_mode": {
    "name": "ipython",
    "version": 3
   },
   "file_extension": ".py",
   "mimetype": "text/x-python",
   "name": "python",
   "nbconvert_exporter": "python",
   "pygments_lexer": "ipython3",
   "version": "3.6.4"
  }
 },
 "nbformat": 4,
 "nbformat_minor": 2
}

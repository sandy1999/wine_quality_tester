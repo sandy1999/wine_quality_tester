{
 "cells": [
  {
   "cell_type": "markdown",
   "metadata": {},
   "source": [
    "## Wine Quality Tester \n",
    "\n",
    "**This project is intended to make a model that is ideal for testing quality of red and white wine on the scale of 0-10.**\n",
    "\n",
    ">**Note:** Code and Markdown cells can be executed using the **Shift + Enter** keyboard shortcut. In addition, Markdown cells can be edited by typically double-clicking the cell to enter edit mode."
   ]
  },
  {
   "cell_type": "code",
   "execution_count": 1,
   "metadata": {},
   "outputs": [
    {
     "name": "stderr",
     "output_type": "stream",
     "text": [
      "C:\\ProgramData\\Anaconda3\\lib\\site-packages\\sklearn\\cross_validation.py:41: DeprecationWarning: This module was deprecated in version 0.18 in favor of the model_selection module into which all the refactored classes and functions are moved. Also note that the interface of the new CV iterators are different from that of this module. This module will be removed in 0.20.\n",
      "  \"This module will be removed in 0.20.\", DeprecationWarning)\n"
     ]
    }
   ],
   "source": [
    "#import some important libraries\n",
    "\n",
    "import pandas as pd\n",
    "import numpy as np\n",
    "\n",
    "from sklearn.cross_validation import ShuffleSplit\n",
    "\n",
    "# loading wine data \n",
    "wine_data = pd.ExcelFile('Wine_data.xlsx')\n",
    "\n",
    "data_red = pd.read_excel(wine_data,'Red Wine')\n",
    "data_white = pd.read_excel(wine_data,'White Wine')"
   ]
  },
  {
   "cell_type": "code",
   "execution_count": 2,
   "metadata": {},
   "outputs": [],
   "source": [
    "# data framing for red wine \n",
    "qlty_red  = data_red['quality']\n",
    "features_red = data_red.drop(['quality'],axis=1)"
   ]
  },
  {
   "cell_type": "code",
   "execution_count": 3,
   "metadata": {},
   "outputs": [],
   "source": [
    "#data framing for white wine \n",
    "qlty_white = data_white['quality']\n",
    "features_white = data_white.drop(['quality'],axis=1)"
   ]
  },
  {
   "cell_type": "code",
   "execution_count": 4,
   "metadata": {},
   "outputs": [],
   "source": [
    "#making a performance function \n",
    "\n",
    "#importing some performance metrics\n",
    "\n",
    "from sklearn.metrics import r2_score\n",
    "\n",
    "#making a new performance metrics for computing performance of regressor\n",
    "def performance_metrics(y_true,y_predict):\n",
    "    return r2_score(y_true,y_predict)"
   ]
  },
  {
   "cell_type": "code",
   "execution_count": 5,
   "metadata": {},
   "outputs": [],
   "source": [
    "#dividing the data in training and testing format \n",
    "\n",
    "from sklearn.cross_validation import train_test_split\n",
    "\n",
    "def split_data(X,y):\n",
    "    #spliting data in two halfs for training and testing \n",
    "    X_train,X_test,y_train,y_test = train_test_split(X,y,test_size=0.2,random_state=42)\n",
    "    \n",
    "    #returning the splitted data for model building\n",
    "    return X_train,X_test,y_train,y_test"
   ]
  },
  {
   "cell_type": "code",
   "execution_count": 6,
   "metadata": {},
   "outputs": [
    {
     "name": "stderr",
     "output_type": "stream",
     "text": [
      "C:\\ProgramData\\Anaconda3\\lib\\site-packages\\sklearn\\grid_search.py:42: DeprecationWarning: This module was deprecated in version 0.18 in favor of the model_selection module into which all the refactored classes and functions are moved. This module will be removed in 0.20.\n",
      "  DeprecationWarning)\n"
     ]
    }
   ],
   "source": [
    "#creating a new function to fit model \n",
    "\n",
    "from sklearn.tree import DecisionTreeRegressor\n",
    "from sklearn.metrics import make_scorer\n",
    "from sklearn.grid_search import GridSearchCV\n",
    "\n",
    "def fit_model(X,y):\n",
    "    \n",
    "    #creating a new cv set to increase complexity of data set \n",
    "    cv_set = ShuffleSplit(X.shape[0],n_iter=15,test_size=0.1,random_state=23)\n",
    "    \n",
    "    #making a scorer function for better evaluation\n",
    "    score_func = make_scorer(performance_metrics)\n",
    "    \n",
    "    #creating a list of params \n",
    "    params = {'max_depth':list(range(1,11))}\n",
    "    \n",
    "    #creating a regressor to perform a regression\n",
    "    reg = DecisionTreeRegressor()\n",
    "    \n",
    "    #creating a grid for estimation using GridSearchCV\n",
    "    grid = GridSearchCV(reg,param_grid=params,scoring=score_func,cv=cv_set)\n",
    "    \n",
    "    #fitting the data for grid\n",
    "    grid.fit(X,y)\n",
    "    \n",
    "    #returning best estimator for predicting the value\n",
    "    return grid.best_estimator_"
   ]
  },
  {
   "cell_type": "code",
   "execution_count": 7,
   "metadata": {},
   "outputs": [
    {
     "name": "stdout",
     "output_type": "stream",
     "text": [
      "Parameter 'max_depth' is 5 for the optimal model.\n"
     ]
    }
   ],
   "source": [
    "# getting the train and test set of data for white wine \n",
    "\n",
    "# spliting dataset \n",
    "X_train_w,X_test_w,y_train_w,y_test_w = split_data(features_white,qlty_white)\n",
    "\n",
    "#Model fitting for white wine\n",
    "reg_w= fit_model(X_train_w,y_train_w)\n",
    "\n",
    "# Producing the value of max_depth\n",
    "print (\"Parameter 'max_depth' is {} for the optimal model.\".format(reg_w.get_params()['max_depth']))"
   ]
  },
  {
   "cell_type": "code",
   "execution_count": 8,
   "metadata": {},
   "outputs": [
    {
     "name": "stdout",
     "output_type": "stream",
     "text": [
      "Parameter 'max_depth' is 4 for the optimal model.\n"
     ]
    }
   ],
   "source": [
    "# Getting the train and test set of data for red wine\n",
    "\n",
    "# Spliting dataset\n",
    "X_train_r,X_test_r,y_train_r,y_test_r = split_data(features_red,qlty_red)\n",
    "\n",
    "# Model fitting for red wine \n",
    "reg_r= fit_model(X_train_r,y_train_r)\n",
    "\n",
    "# Producing the value of max_depth\n",
    "print (\"Parameter 'max_depth' is {} for the optimal model.\".format(reg_r.get_params()['max_depth']))"
   ]
  },
  {
   "cell_type": "code",
   "execution_count": 9,
   "metadata": {},
   "outputs": [],
   "source": [
    "# creating function for predicting the values for the model \n",
    "\n",
    "def PredictTrials(X, y, fitter, data):\n",
    "    \"\"\" Performs trials of fitting and predicting data. \"\"\"\n",
    "    quality = []\n",
    "    for k in range(10):\n",
    "        # Split the data\n",
    "        X_train, X_test, y_train, y_test = train_test_split(X, y, \\\n",
    "            test_size = 0.2, random_state = k)\n",
    "        \n",
    "        # Fit the data\n",
    "        reg = fitter(X_train, y_train)\n",
    "        \n",
    "        # Make a prediction\n",
    "        pred = reg.predict([data[0]])[0]\n",
    "        \n",
    "        #appending the list quality list \n",
    "        quality.append(pred)\n",
    "        \n",
    "        # Result\n",
    "        print (\"Trial {}: {:,.2f}\".format(k+1, pred))\n",
    "    # printing the mean value of all the prediction performed by our model\n",
    "    print(\"Mean Value of our prediction is {}\".format(np.mean(quality)))"
   ]
  },
  {
   "cell_type": "code",
   "execution_count": null,
   "metadata": {},
   "outputs": [],
   "source": [
    "#Sample data for our \n",
    "white_data =  [[7,0.27,0.36,20.7,0.045,45,170,1.001,3,0.45,8.8],\n",
    "[6.3,0.3,0.34,1.6,0.049,14,132,0.994,3.3,0.49,9.5],\n",
    "[8.1,0.28,0.4,6.9,0.05,30,97,0.9951,3.26,0.44,10.1],\n",
    "[7.2,0.23,0.32,8.5,0.058,47,186,0.9956,3.19,0.4,9.9],\n",
    "[7.2,0.23,0.32,8.5,0.058,47,186,0.9956,3.19,0.4,9.9]]"
   ]
  },
  {
   "cell_type": "code",
   "execution_count": null,
   "metadata": {},
   "outputs": [
    {
     "name": "stdout",
     "output_type": "stream",
     "text": [
      "Trial 1: 5.45\n",
      "Trial 2: 5.59\n",
      "Trial 3: 5.34\n",
      "Trial 4: 5.51\n",
      "Trial 5: 5.66\n",
      "Trial 6: 5.15\n",
      "Trial 7: 5.42\n"
     ]
    }
   ],
   "source": [
    "# predicting the trials for white wine \n",
    "\n",
    "PredictTrials(features_white,qlty_white,fit_model,white_data)"
   ]
  },
  {
   "cell_type": "code",
   "execution_count": null,
   "metadata": {},
   "outputs": [],
   "source": [
    "red_data =[[7.9,0.6,0.06,1.6,0.069,15,59,0.9964,3.3,0.46,9.4],\n",
    "[7.8,0.88,0,2.6,0.098,25,67,0.9968,3.2,0.68,9.8],\n",
    "[7.8,0.76,0.04,2.3,0.092,15,54,0.997,3.26,0.65,9.8],\n",
    "[11.2,0.28,0.56,1.9,0.075,17,60,0.998,3.16,0.58,9.8],\n",
    "[7.4,0.7,0,1.9,0.076,11,34,0.9978,3.51,0.56,9.4],\n",
    "[7.4,0.66,0,1.8,0.075,13,40,0.9978,3.51,0.56,9.4],\n",
    "[7.3,0.65,0,1.2,0.065,15,21,0.9946,3.39,0.47,10,7]]"
   ]
  },
  {
   "cell_type": "code",
   "execution_count": null,
   "metadata": {},
   "outputs": [],
   "source": [
    "PredictTrials(features_red,qlty_red,fit_model,red_data)"
   ]
  }
 ],
 "metadata": {
  "kernelspec": {
   "display_name": "Python 3",
   "language": "python",
   "name": "python3"
  },
  "language_info": {
   "codemirror_mode": {
    "name": "ipython",
    "version": 3
   },
   "file_extension": ".py",
   "mimetype": "text/x-python",
   "name": "python",
   "nbconvert_exporter": "python",
   "pygments_lexer": "ipython3",
   "version": "3.6.4"
  }
 },
 "nbformat": 4,
 "nbformat_minor": 2
}
